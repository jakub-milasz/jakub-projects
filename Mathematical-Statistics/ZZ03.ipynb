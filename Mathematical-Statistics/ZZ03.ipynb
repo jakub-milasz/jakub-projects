{
 "cells": [
  {
   "cell_type": "markdown",
   "id": "c613ffae",
   "metadata": {
    "deletable": false,
    "editable": false,
    "nbgrader": {
     "cell_type": "markdown",
     "checksum": "ff0bc2c9546dc7416a62ab1f8e86fe5a",
     "grade": false,
     "grade_id": "cell-fcd2666579131b77",
     "locked": true,
     "schema_version": 3,
     "solution": false,
     "task": false
    },
    "tags": []
   },
   "source": [
    "# Statystyka matematyczna - ćwiczenia laboratoryjne 2023/2024\n",
    "\n",
    "Ten notatnik zalicza się do grupy zestawów zadań, na podstawie których odbywa się zaliczenie ćwiczeń i podlega zwrotowi do oceny w ustalonym na zajęciach terminie.\n",
    "\n",
    "Uwagi i wytyczne ogólne dotyczące uzupełniania notatnika:\n",
    "- Podczas wykonywania zadań należy korzystać wyłącznie z pakietów zaimportowanych na początku notatnika oraz z pakietów wchodzących w skład standardowej biblioteki Pythona, które można zaimportować samodzielnie we wskazanej komórce notatnika.\n",
    "- Swoje rozwiązania należy wprowadzać wyłącznie w miejce następujących fragmentów kodu:<br/> `# YOUR CODE HERE`<br/> `raise NotImplementedError()`<br/> \n",
    "a odpowiedzi tekstowe w komórkach oznaczonych hasłem:<br/> \n",
    "`YOUR ANSWER HERE`<br/> \n",
    "Nie należy w żaden sposób modyfikować pozostałych fragmentów kodu oraz innych elementów notatnika, w szczególności dodawać lub usuwać komórek oraz zmieniać nazwy pliku.\n",
    "- Otrzymywane wyniki i odpowiedzi mają być rezultatem wykonania napisanego kodu.\n",
    "- Zadanie należy wykonać w taki sposób, aby podczas wykonywania kodu nie zostały wyświetlone żadne ostrzeżenia.\n",
    "- Zawarte w notatniku automatyczne testy mają charakter poglądowy. Dotyczą one wybranych aspektów zadań i mają za zadanie wyłapać podstawowe błędy. Przejście wszystkich testów nie oznacza, że zadanie jest wykonane w całości poprawnie.\n",
    "\n",
    "Uwagi i wytyczne ogólne dotyczące wizualizacji wyników:\n",
    "- Wszystkie wykresy powinny być wykonane w jednolitym, przejrzystym i czytelnym stylu, posiadać odpowiednio dobrane proporcje i zakresy wartości osi.\n",
    "- Wykresy oraz ich osie powinny mieć nadane tytuły. Jeżeli w obrębie figury znajduje się więcej niż jeden wykres to figura również powinna mieć nadany tytuł. \n",
    "- Figury powinny mieć ustawione białe tło, tak, aby niezależnie od ustawień notatnika wszystkie elementy wykresów były dobrze widoczne (domyślnie tło jest przeźroczyste co może powodować problemy w notatnikach z ustawionym ciemnym tłem).\n",
    "- Rozmiar poziomy figur nie powinien przekraczać 20 cali.\n",
    "\n",
    "Przed odesłaniem zestawu zadań do oceny proszę uzupełnić komórkę z danymi autorów rozwiązania (nazwa zespołu oraz imiona, nazwiska i numery indeksów członków zespołu) oraz upewnić się, że notatnik działa zgodnie z oczekiwaniami. W tym celu należy skorzystać z opcji **Restart Kernel and Run All Cells...** dostępnej na górnej belce notatnika pod symbolem $\\blacktriangleright\\blacktriangleright$."
   ]
  },
  {
   "cell_type": "markdown",
   "id": "21b99c52",
   "metadata": {},
   "source": [
    "Nazwa zespołu: 2.24\n",
    "Członkowie: Jakub Milasz 414584, Miłosz Pabis 417356, Bartosz Pietrucha 414678"
   ]
  },
  {
   "cell_type": "markdown",
   "id": "977f4bfa",
   "metadata": {
    "deletable": false,
    "editable": false,
    "nbgrader": {
     "cell_type": "markdown",
     "checksum": "eddc8826810e4a6f7bf68319da334bd9",
     "grade": false,
     "grade_id": "cell-109006d425e5cf83",
     "locked": true,
     "schema_version": 3,
     "solution": false,
     "task": false
    },
    "tags": []
   },
   "source": [
    "---"
   ]
  },
  {
   "cell_type": "markdown",
   "id": "c2a6b929-6bac-4568-af2d-a1feaf641e34",
   "metadata": {
    "deletable": false,
    "editable": false,
    "nbgrader": {
     "cell_type": "markdown",
     "checksum": "e0ac0843ae287698f6e4c932364dd775",
     "grade": false,
     "grade_id": "cell-af27114f3d05ff7b",
     "locked": true,
     "schema_version": 3,
     "solution": false,
     "task": false
    },
    "tags": []
   },
   "source": [
    "# Zestaw zadań 3: Rozkłady zmiennych losowych wielowymiarowych"
   ]
  },
  {
   "cell_type": "code",
   "execution_count": 1,
   "id": "130bd135-5cce-4f5b-821c-42495c659c45",
   "metadata": {
    "deletable": false,
    "editable": false,
    "nbgrader": {
     "cell_type": "code",
     "checksum": "34dc2bf048ce781ca50b21693016d400",
     "grade": false,
     "grade_id": "cell-b65df0faa62fed77",
     "locked": true,
     "schema_version": 3,
     "solution": false,
     "task": false
    },
    "tags": []
   },
   "outputs": [],
   "source": [
    "import numpy as np\n",
    "import pandas as pd\n",
    "import scipy as sp\n",
    "import matplotlib as mpl\n",
    "import matplotlib.pyplot as plt\n",
    "import seaborn as sns"
   ]
  },
  {
   "cell_type": "code",
   "execution_count": 2,
   "id": "80a97a79-7de5-44eb-9f3a-fac80ffebe6c",
   "metadata": {},
   "outputs": [],
   "source": [
    "# Miejsce do importu pakietów wchodzących w skład standardowej biblioteki Pythona oraz ustawienie opcji wykorzystywanych pakietów"
   ]
  },
  {
   "cell_type": "markdown",
   "id": "d562321c-8b59-4fad-bc67-4a0cd1c45215",
   "metadata": {
    "deletable": false,
    "editable": false,
    "nbgrader": {
     "cell_type": "markdown",
     "checksum": "4e1bf2907ae24601c8e7b4f56766105c",
     "grade": false,
     "grade_id": "cell-f152536a726f259b",
     "locked": true,
     "schema_version": 3,
     "solution": false,
     "task": false
    },
    "tags": []
   },
   "source": [
    "### Funkcje do wykorzystania"
   ]
  },
  {
   "cell_type": "code",
   "execution_count": 3,
   "id": "2a657955-1ca5-4733-ab45-747f3bdc6c41",
   "metadata": {
    "deletable": false,
    "editable": false,
    "nbgrader": {
     "cell_type": "code",
     "checksum": "9d2ab83f3df0cb649c2726fc34c234b0",
     "grade": false,
     "grade_id": "cell-08ff805a2991952c",
     "locked": true,
     "schema_version": 3,
     "solution": false,
     "task": false
    },
    "tags": []
   },
   "outputs": [],
   "source": [
    "def vizualize_2d_discrete_distribution(pmf, cdf, mask=None):\n",
    "    \"\"\"\n",
    "    Parameters\n",
    "    -------\n",
    "    pmf: pandas.DataFrame\n",
    "        Tablica zawierająca nazwy kolumn z wariantami pierwszej zmiennej losowej i nadaną zbiorczą nazwą zmiennej (np. x),\n",
    "        indeks z wariantami drugiej zmiennej losowej i nadaną zbiorczą nazwą zmiennej (np. y),\n",
    "        a wartości w tablicy są prawdopodobieństwami poszczególnych wariantów zmiennej.\n",
    "    cdf: pandas.DataFrame\n",
    "        Tablica zawierająca nazwy kolumny w formacie pandas.IntervalIndex z przedziałami wartości pierwszej zmiennej losowej i nadaną zbiorczą nazwą zmiennej (np. x),\n",
    "        indeks w formacie pandas.IntervalIndex z przedziałami wartości drugiej zmiennej losowej i nadaną zbiorczą nazwą zmiennej (np. y),\n",
    "        a wartości w tablicy są wartościami dystrybuanty dla poszczególnych przedziałów.\n",
    "    mask: numpy.ndarray\n",
    "        Macierz logiczna 2D określająca, które z wariantów zmiennej losowej spełniają wizualizowaną nierówność, a które nie.\n",
    "    \"\"\"    \n",
    "    fig, axes = plt.subplots(1, 2, figsize=(14, 6), facecolor='white')\n",
    "\n",
    "    fig.suptitle(\"Rozkład prawdopodobieństwa i dystrybuanta dwuwymiarowej zmiennej losowej dyskretnej\")\n",
    "\n",
    "    if mask is None:\n",
    "        sns.heatmap(data=pmf, vmin=0, vmax=np.max(pmf.values), cmap=\"Blues\", annot=True, linewidths=2, linecolor='grey', ax=axes[0])\n",
    "    else:\n",
    "        sns.heatmap(data=pmf, vmin=0, vmax=np.max(pmf.values), cmap=\"Blues\", annot=True, annot_kws={'color':'darkgreen'}, linewidths=2, linecolor='grey', mask=~mask, ax=axes[0])\n",
    "        sns.heatmap(data=pmf, vmin=0, vmax=np.max(pmf.values), cmap=\"Blues\", annot=True, annot_kws={'color':'red'}, linewidths=2, linecolor='grey', mask=mask, cbar=False, ax=axes[0])\n",
    "    axes[0].set_title(\"Rozkład prawdopodobieństwa\")\n",
    "    axes[0].tick_params(labelrotation=0)\n",
    "\n",
    "    sns.heatmap(data=cdf, vmin=0, vmax=1, cmap=\"Blues\", annot=True, linewidths=2, linecolor='grey', ax=axes[1])\n",
    "    axes[1].set_title(\"Dystrybuanta\")\n",
    "    axes[1].tick_params(labelrotation=45)\n"
   ]
  },
  {
   "cell_type": "markdown",
   "id": "55023287-bf73-4218-9c0b-9acf830648e9",
   "metadata": {
    "deletable": false,
    "editable": false,
    "nbgrader": {
     "cell_type": "markdown",
     "checksum": "77d84136744a8a6f193b92653cf127b9",
     "grade": false,
     "grade_id": "cell-eddef877fb1b7b54",
     "locked": true,
     "schema_version": 3,
     "solution": false,
     "task": false
    },
    "tags": []
   },
   "source": [
    "### Dane do zadań\n",
    "\n",
    "Pliki r1p.pkl oraz r1f.pkl zawierają funkcję rozkładu prawdopodobieństwa oraz dystrybuantę przykładowej dwywymiarowej zmiennej losowej dyskretnej.\n",
    "\n",
    "W celu wczytania danych do notatnika umieść pliki w tym samym folderze, w którym znajduje się notatnik."
   ]
  },
  {
   "cell_type": "code",
   "execution_count": 4,
   "id": "51246798-2882-48ba-9b28-4f516369a574",
   "metadata": {
    "deletable": false,
    "editable": false,
    "nbgrader": {
     "cell_type": "code",
     "checksum": "756f5fffe17bd8414cfbcd95e586c431",
     "grade": false,
     "grade_id": "cell-826c16f404253107",
     "locked": true,
     "schema_version": 3,
     "solution": false,
     "task": false
    },
    "scrolled": true,
    "tags": []
   },
   "outputs": [
    {
     "data": {
      "text/html": [
       "<div>\n",
       "<style scoped>\n",
       "    .dataframe tbody tr th:only-of-type {\n",
       "        vertical-align: middle;\n",
       "    }\n",
       "\n",
       "    .dataframe tbody tr th {\n",
       "        vertical-align: top;\n",
       "    }\n",
       "\n",
       "    .dataframe thead th {\n",
       "        text-align: right;\n",
       "    }\n",
       "</style>\n",
       "<table border=\"1\" class=\"dataframe\">\n",
       "  <thead>\n",
       "    <tr style=\"text-align: right;\">\n",
       "      <th>x</th>\n",
       "      <th>1</th>\n",
       "      <th>2</th>\n",
       "      <th>3</th>\n",
       "      <th>4</th>\n",
       "    </tr>\n",
       "    <tr>\n",
       "      <th>y</th>\n",
       "      <th></th>\n",
       "      <th></th>\n",
       "      <th></th>\n",
       "      <th></th>\n",
       "    </tr>\n",
       "  </thead>\n",
       "  <tbody>\n",
       "    <tr>\n",
       "      <th>0</th>\n",
       "      <td>0.060</td>\n",
       "      <td>0.100</td>\n",
       "      <td>0.160</td>\n",
       "      <td>0.080</td>\n",
       "    </tr>\n",
       "    <tr>\n",
       "      <th>5</th>\n",
       "      <td>0.018</td>\n",
       "      <td>0.030</td>\n",
       "      <td>0.048</td>\n",
       "      <td>0.024</td>\n",
       "    </tr>\n",
       "    <tr>\n",
       "      <th>10</th>\n",
       "      <td>0.027</td>\n",
       "      <td>0.045</td>\n",
       "      <td>0.070</td>\n",
       "      <td>0.028</td>\n",
       "    </tr>\n",
       "    <tr>\n",
       "      <th>15</th>\n",
       "      <td>0.045</td>\n",
       "      <td>0.075</td>\n",
       "      <td>0.120</td>\n",
       "      <td>0.070</td>\n",
       "    </tr>\n",
       "  </tbody>\n",
       "</table>\n",
       "</div>"
      ],
      "text/plain": [
       "x       1      2      3      4\n",
       "y                             \n",
       "0   0.060  0.100  0.160  0.080\n",
       "5   0.018  0.030  0.048  0.024\n",
       "10  0.027  0.045  0.070  0.028\n",
       "15  0.045  0.075  0.120  0.070"
      ]
     },
     "execution_count": 4,
     "metadata": {},
     "output_type": "execute_result"
    }
   ],
   "source": [
    "r1p = pd.read_pickle(\"r1p.pkl\")\n",
    "r1p"
   ]
  },
  {
   "cell_type": "code",
   "execution_count": 5,
   "id": "c50f437a-f6cb-49d2-a791-10e1417ae18a",
   "metadata": {
    "deletable": false,
    "editable": false,
    "nbgrader": {
     "cell_type": "code",
     "checksum": "2d1214c0eda1dafa555327c41d69c344",
     "grade": false,
     "grade_id": "cell-fc84be11d8bc3d70",
     "locked": true,
     "schema_version": 3,
     "solution": false,
     "task": false
    },
    "tags": []
   },
   "outputs": [
    {
     "data": {
      "text/html": [
       "<div>\n",
       "<style scoped>\n",
       "    .dataframe tbody tr th:only-of-type {\n",
       "        vertical-align: middle;\n",
       "    }\n",
       "\n",
       "    .dataframe tbody tr th {\n",
       "        vertical-align: top;\n",
       "    }\n",
       "\n",
       "    .dataframe thead th {\n",
       "        text-align: right;\n",
       "    }\n",
       "</style>\n",
       "<table border=\"1\" class=\"dataframe\">\n",
       "  <thead>\n",
       "    <tr style=\"text-align: right;\">\n",
       "      <th>x</th>\n",
       "      <th>[-inf, 1.0)</th>\n",
       "      <th>[1.0, 2.0)</th>\n",
       "      <th>[2.0, 3.0)</th>\n",
       "      <th>[3.0, 4.0)</th>\n",
       "      <th>[4.0, inf)</th>\n",
       "    </tr>\n",
       "    <tr>\n",
       "      <th>y</th>\n",
       "      <th></th>\n",
       "      <th></th>\n",
       "      <th></th>\n",
       "      <th></th>\n",
       "      <th></th>\n",
       "    </tr>\n",
       "  </thead>\n",
       "  <tbody>\n",
       "    <tr>\n",
       "      <th>[-inf, 0.0)</th>\n",
       "      <td>0.0</td>\n",
       "      <td>0.000</td>\n",
       "      <td>0.000</td>\n",
       "      <td>0.000</td>\n",
       "      <td>0.00</td>\n",
       "    </tr>\n",
       "    <tr>\n",
       "      <th>[0.0, 5.0)</th>\n",
       "      <td>0.0</td>\n",
       "      <td>0.060</td>\n",
       "      <td>0.160</td>\n",
       "      <td>0.320</td>\n",
       "      <td>0.40</td>\n",
       "    </tr>\n",
       "    <tr>\n",
       "      <th>[5.0, 10.0)</th>\n",
       "      <td>0.0</td>\n",
       "      <td>0.078</td>\n",
       "      <td>0.208</td>\n",
       "      <td>0.416</td>\n",
       "      <td>0.52</td>\n",
       "    </tr>\n",
       "    <tr>\n",
       "      <th>[10.0, 15.0)</th>\n",
       "      <td>0.0</td>\n",
       "      <td>0.105</td>\n",
       "      <td>0.280</td>\n",
       "      <td>0.558</td>\n",
       "      <td>0.69</td>\n",
       "    </tr>\n",
       "    <tr>\n",
       "      <th>[15.0, inf)</th>\n",
       "      <td>0.0</td>\n",
       "      <td>0.150</td>\n",
       "      <td>0.400</td>\n",
       "      <td>0.798</td>\n",
       "      <td>1.00</td>\n",
       "    </tr>\n",
       "  </tbody>\n",
       "</table>\n",
       "</div>"
      ],
      "text/plain": [
       "x             [-inf, 1.0)  [1.0, 2.0)  [2.0, 3.0)  [3.0, 4.0)  [4.0, inf)\n",
       "y                                                                        \n",
       "[-inf, 0.0)           0.0       0.000       0.000       0.000        0.00\n",
       "[0.0, 5.0)            0.0       0.060       0.160       0.320        0.40\n",
       "[5.0, 10.0)           0.0       0.078       0.208       0.416        0.52\n",
       "[10.0, 15.0)          0.0       0.105       0.280       0.558        0.69\n",
       "[15.0, inf)           0.0       0.150       0.400       0.798        1.00"
      ]
     },
     "execution_count": 5,
     "metadata": {},
     "output_type": "execute_result"
    }
   ],
   "source": [
    "r1f= pd.read_pickle(\"r1f.pkl\")\n",
    "r1f"
   ]
  },
  {
   "cell_type": "code",
   "execution_count": 6,
   "id": "1230a84b-895c-4449-b6aa-465b8d8871ae",
   "metadata": {
    "deletable": false,
    "editable": false,
    "nbgrader": {
     "cell_type": "code",
     "checksum": "68d98c0060f365cbf7157b7166e5768c",
     "grade": false,
     "grade_id": "cell-d503a33116d447a2",
     "locked": true,
     "schema_version": 3,
     "solution": false,
     "task": false
    },
    "tags": []
   },
   "outputs": [
    {
     "data": {
      "image/png": "[encoded data removed]",
      "text/plain": [
       "<Figure size 1008x432 with 4 Axes>"
      ]
     },
     "metadata": {},
     "output_type": "display_data"
    }
   ],
   "source": [
    "vizualize_2d_discrete_distribution(r1p, r1f)"
   ]
  },
  {
   "cell_type": "markdown",
   "id": "c7aad9f1-4c04-4d92-bd95-d80d14205744",
   "metadata": {
    "deletable": false,
    "editable": false,
    "nbgrader": {
     "cell_type": "markdown",
     "checksum": "df791b27e23e995695d881fadef07987",
     "grade": false,
     "grade_id": "cell-343cbebb020b2edd",
     "locked": true,
     "schema_version": 3,
     "solution": false,
     "task": false
    },
    "tags": []
   },
   "source": [
    "### Zadanie 1: Przykładowy dwuwymiarowy dyskretny rozkład prawdopodobieństwa [17 pkt]\n",
    "\n",
    "Bazując na wczytanym do notatnika przykładowym dwuwymiarowym rozkładzie prawdopodobieństwa oblicz jego rozkłady brzegowe, wybrane rozkłady warunkowe oraz podstawowe parametry rozkładu.\n",
    "\n",
    "#### a) Rozkłady brzegowe\n",
    "\n",
    "Przedstaw funkcje brzegowych rozkładów prawdopodobieństwa zmiennej losowej dwuwymiarowej X, Y w formie tablic `r1bx`  i `r1by` o następującej strukturze:\n",
    "\n",
    "Tablica `r1bx`:\n",
    "> Indeks:</br>\n",
    "> x - warianty przyjmowane przez zmienną X.</br>\n",
    "\n",
    "> Kolumny: </br>\n",
    "> P(X=x) - prawdopodobieństwa rozkładu brzegowego zmiennej X.\n",
    "\n",
    "Tablica `r1by`:\n",
    "> Indeks:</br>\n",
    "> y - warianty przyjmowane przez zmienną Y.</br>\n",
    "\n",
    "> Kolumny: </br>\n",
    "> P(Y=y) - prawdopodobieństwa rozkładu brzegowego zmiennej Y."
   ]
  },
  {
   "cell_type": "code",
   "execution_count": 7,
   "id": "c649fdfe-7b22-429e-bbf3-fb6fd6c7e352",
   "metadata": {
    "deletable": false,
    "nbgrader": {
     "cell_type": "code",
     "checksum": "e2b5b9c9ff21d37835c9686e43c268e5",
     "grade": false,
     "grade_id": "cell-9c3fcdd9befa96eb",
     "locked": false,
     "schema_version": 3,
     "solution": true,
     "task": false
    },
    "tags": []
   },
   "outputs": [
    {
     "data": {
      "text/html": [
       "<div>\n",
       "<style scoped>\n",
       "    .dataframe tbody tr th:only-of-type {\n",
       "        vertical-align: middle;\n",
       "    }\n",
       "\n",
       "    .dataframe tbody tr th {\n",
       "        vertical-align: top;\n",
       "    }\n",
       "\n",
       "    .dataframe thead th {\n",
       "        text-align: right;\n",
       "    }\n",
       "</style>\n",
       "<table border=\"1\" class=\"dataframe\">\n",
       "  <thead>\n",
       "    <tr style=\"text-align: right;\">\n",
       "      <th></th>\n",
       "      <th>P(X=x)</th>\n",
       "    </tr>\n",
       "    <tr>\n",
       "      <th>x</th>\n",
       "      <th></th>\n",
       "    </tr>\n",
       "  </thead>\n",
       "  <tbody>\n",
       "    <tr>\n",
       "      <th>1</th>\n",
       "      <td>0.150</td>\n",
       "    </tr>\n",
       "    <tr>\n",
       "      <th>2</th>\n",
       "      <td>0.250</td>\n",
       "    </tr>\n",
       "    <tr>\n",
       "      <th>3</th>\n",
       "      <td>0.398</td>\n",
       "    </tr>\n",
       "    <tr>\n",
       "      <th>4</th>\n",
       "      <td>0.202</td>\n",
       "    </tr>\n",
       "  </tbody>\n",
       "</table>\n",
       "</div>"
      ],
      "text/plain": [
       "   P(X=x)\n",
       "x        \n",
       "1   0.150\n",
       "2   0.250\n",
       "3   0.398\n",
       "4   0.202"
      ]
     },
     "execution_count": 7,
     "metadata": {},
     "output_type": "execute_result"
    }
   ],
   "source": [
    "r1bx = pd.DataFrame(data=r1p.sum(), index=r1p.columns, columns=[\"P(X=x)\"])\n",
    "r1bx.index.name = \"x\"\n",
    "\n",
    "r1bx"
   ]
  },
  {
   "cell_type": "code",
   "execution_count": 8,
   "id": "5211de9b-c28e-45a0-8c37-210ce7e739a5",
   "metadata": {
    "deletable": false,
    "editable": false,
    "nbgrader": {
     "cell_type": "code",
     "checksum": "56e8f5763446804546fbf1dda563e140",
     "grade": true,
     "grade_id": "cell-60e0b6c63085aa73",
     "locked": true,
     "points": 2,
     "schema_version": 3,
     "solution": false,
     "task": false
    },
    "tags": []
   },
   "outputs": [],
   "source": [
    "# Komórka testowa\n",
    "assert type(r1bx) == pd.DataFrame\n",
    "assert r1bx.shape == (4, 1)\n",
    "assert list(r1bx.columns) == [\"P(X=x)\"]\n",
    "assert r1bx.index.name == 'x'\n",
    "assert np.isclose(np.sum(r1bx.index.values), 10)\n",
    "assert np.isclose(np.sum(r1bx[\"P(X=x)\"]), 1)"
   ]
  },
  {
   "cell_type": "code",
   "execution_count": 9,
   "id": "145235bf-e790-43d1-a55d-6c1e9fa4ee21",
   "metadata": {
    "deletable": false,
    "nbgrader": {
     "cell_type": "code",
     "checksum": "be732225a16cb67d9630b82e175a8ca6",
     "grade": false,
     "grade_id": "cell-47892605f8f5f38f",
     "locked": false,
     "schema_version": 3,
     "solution": true,
     "task": false
    },
    "tags": []
   },
   "outputs": [
    {
     "data": {
      "text/html": [
       "<div>\n",
       "<style scoped>\n",
       "    .dataframe tbody tr th:only-of-type {\n",
       "        vertical-align: middle;\n",
       "    }\n",
       "\n",
       "    .dataframe tbody tr th {\n",
       "        vertical-align: top;\n",
       "    }\n",
       "\n",
       "    .dataframe thead th {\n",
       "        text-align: right;\n",
       "    }\n",
       "</style>\n",
       "<table border=\"1\" class=\"dataframe\">\n",
       "  <thead>\n",
       "    <tr style=\"text-align: right;\">\n",
       "      <th></th>\n",
       "      <th>P(Y=y)</th>\n",
       "    </tr>\n",
       "    <tr>\n",
       "      <th>y</th>\n",
       "      <th></th>\n",
       "    </tr>\n",
       "  </thead>\n",
       "  <tbody>\n",
       "    <tr>\n",
       "      <th>0</th>\n",
       "      <td>0.40</td>\n",
       "    </tr>\n",
       "    <tr>\n",
       "      <th>5</th>\n",
       "      <td>0.12</td>\n",
       "    </tr>\n",
       "    <tr>\n",
       "      <th>10</th>\n",
       "      <td>0.17</td>\n",
       "    </tr>\n",
       "    <tr>\n",
       "      <th>15</th>\n",
       "      <td>0.31</td>\n",
       "    </tr>\n",
       "  </tbody>\n",
       "</table>\n",
       "</div>"
      ],
      "text/plain": [
       "    P(Y=y)\n",
       "y         \n",
       "0     0.40\n",
       "5     0.12\n",
       "10    0.17\n",
       "15    0.31"
      ]
     },
     "execution_count": 9,
     "metadata": {},
     "output_type": "execute_result"
    }
   ],
   "source": [
    "r1by = pd.DataFrame(data=r1p.sum(axis=1), index=r1p.index, columns=[\"P(Y=y)\"])\n",
    "r1by.index.name = \"y\"\n",
    "\n",
    "r1by"
   ]
  },
  {
   "cell_type": "code",
   "execution_count": 10,
   "id": "9778c2fe-9d82-4392-92f5-90b15ba8fff0",
   "metadata": {
    "deletable": false,
    "editable": false,
    "nbgrader": {
     "cell_type": "code",
     "checksum": "1d74808078357b91321a61e6677dab57",
     "grade": true,
     "grade_id": "cell-33fbf4e898073a05",
     "locked": true,
     "points": 2,
     "schema_version": 3,
     "solution": false,
     "task": false
    },
    "tags": []
   },
   "outputs": [],
   "source": [
    "# Komórka testowa\n",
    "assert type(r1by) == pd.DataFrame\n",
    "assert r1by.shape == (4, 1)\n",
    "assert list(r1by.columns) == [\"P(Y=y)\"]\n",
    "assert r1by.index.name == 'y'\n",
    "assert np.isclose(np.sum(r1by.index.values), 30)\n",
    "assert np.isclose(np.sum(r1by[\"P(Y=y)\"]), 1)"
   ]
  },
  {
   "cell_type": "markdown",
   "id": "d090966d-e238-4e53-9341-84704129be5b",
   "metadata": {
    "deletable": false,
    "editable": false,
    "nbgrader": {
     "cell_type": "markdown",
     "checksum": "d4e1c045af0bbdac74c4418b344e5c2d",
     "grade": false,
     "grade_id": "cell-7a111ce12bda6ffe",
     "locked": true,
     "schema_version": 3,
     "solution": false,
     "task": false
    },
    "tags": []
   },
   "source": [
    "#### b) Przykładowe rozkłady warunkowe\n",
    "\n",
    "Przedstaw funkcje przykładowych warunkowych rozkładów prawdopodobieństwa zmiennej losowej dwuwymiarowej X, Y w formie tablic `r1wx`  i `r1wy` o następującej strukturze:\n",
    "\n",
    "Tablica `r1wx`:\n",
    "> Indeks:</br>\n",
    "> x - warianty przyjmowane przez zmienną X.</br>\n",
    "\n",
    "> Kolumny: </br>\n",
    "> P(X=x|Y=5) - prawdopodobieństwa rozkładu warunkowego P(X=x|Y=5) zmiennej X.\n",
    "\n",
    "Tablica `r1wy`:\n",
    "> Indeks:</br>\n",
    "> y- warianty przyjmowane przez zmienną Y.</br>\n",
    "\n",
    "> Kolumny: </br>\n",
    "> P(Y=y|X=2) - prawdopodobieństwa rozkładu warunkowego P(Y=y|X=2) zmiennej Y."
   ]
  },
  {
   "cell_type": "code",
   "execution_count": 11,
   "id": "5d07fc4b-9d14-4921-808e-529e629dab7c",
   "metadata": {
    "deletable": false,
    "nbgrader": {
     "cell_type": "code",
     "checksum": "f4154e3e1d02ee18933c02117a2010d9",
     "grade": false,
     "grade_id": "cell-4f06b6c68b551d3c",
     "locked": false,
     "schema_version": 3,
     "solution": true,
     "task": false
    },
    "tags": []
   },
   "outputs": [
    {
     "data": {
      "text/html": [
       "<div>\n",
       "<style scoped>\n",
       "    .dataframe tbody tr th:only-of-type {\n",
       "        vertical-align: middle;\n",
       "    }\n",
       "\n",
       "    .dataframe tbody tr th {\n",
       "        vertical-align: top;\n",
       "    }\n",
       "\n",
       "    .dataframe thead th {\n",
       "        text-align: right;\n",
       "    }\n",
       "</style>\n",
       "<table border=\"1\" class=\"dataframe\">\n",
       "  <thead>\n",
       "    <tr style=\"text-align: right;\">\n",
       "      <th></th>\n",
       "      <th>P(X=x|Y=5)</th>\n",
       "    </tr>\n",
       "    <tr>\n",
       "      <th>x</th>\n",
       "      <th></th>\n",
       "    </tr>\n",
       "  </thead>\n",
       "  <tbody>\n",
       "    <tr>\n",
       "      <th>1</th>\n",
       "      <td>0.15</td>\n",
       "    </tr>\n",
       "    <tr>\n",
       "      <th>2</th>\n",
       "      <td>0.25</td>\n",
       "    </tr>\n",
       "    <tr>\n",
       "      <th>3</th>\n",
       "      <td>0.40</td>\n",
       "    </tr>\n",
       "    <tr>\n",
       "      <th>4</th>\n",
       "      <td>0.20</td>\n",
       "    </tr>\n",
       "  </tbody>\n",
       "</table>\n",
       "</div>"
      ],
      "text/plain": [
       "   P(X=x|Y=5)\n",
       "x            \n",
       "1        0.15\n",
       "2        0.25\n",
       "3        0.40\n",
       "4        0.20"
      ]
     },
     "execution_count": 11,
     "metadata": {},
     "output_type": "execute_result"
    }
   ],
   "source": [
    "# Rozkład warunkowy X\n",
    "\n",
    "d = r1p.loc[5, :]\n",
    "PXY5 = d / d.sum()\n",
    "\n",
    "r1wx = pd.DataFrame(data=PXY5.values, index=PXY5.index, columns=[\"P(X=x|Y=5)\"])\n",
    "r1wx.index.name = \"x\"\n",
    "r1wx"
   ]
  },
  {
   "cell_type": "code",
   "execution_count": 12,
   "id": "3da6106f-87ec-4574-8abc-fcb76e7186dd",
   "metadata": {
    "deletable": false,
    "editable": false,
    "nbgrader": {
     "cell_type": "code",
     "checksum": "3fb4e11eb17edbeae80f3305a9210bcd",
     "grade": true,
     "grade_id": "cell-8555855320b32314",
     "locked": true,
     "points": 2,
     "schema_version": 3,
     "solution": false,
     "task": false
    },
    "tags": []
   },
   "outputs": [],
   "source": [
    "# Komórka testowa\n",
    "assert type(r1wx) == pd.DataFrame\n",
    "assert r1wx.shape == (4, 1)\n",
    "assert list(r1wx.columns) == [\"P(X=x|Y=5)\"]\n",
    "assert r1wx.index.name == 'x'\n",
    "assert np.isclose(np.sum(r1wx.index.values), 10)\n",
    "assert np.isclose(np.sum(r1wx[\"P(X=x|Y=5)\"]), 1)"
   ]
  },
  {
   "cell_type": "code",
   "execution_count": 13,
   "id": "1bec3a3f-366d-49c1-8d92-b20b2d628283",
   "metadata": {
    "deletable": false,
    "nbgrader": {
     "cell_type": "code",
     "checksum": "15d3d423f27e454aed577cc59bd97906",
     "grade": false,
     "grade_id": "cell-659e50116160d158",
     "locked": false,
     "schema_version": 3,
     "solution": true,
     "task": false
    },
    "tags": []
   },
   "outputs": [
    {
     "data": {
      "text/html": [
       "<div>\n",
       "<style scoped>\n",
       "    .dataframe tbody tr th:only-of-type {\n",
       "        vertical-align: middle;\n",
       "    }\n",
       "\n",
       "    .dataframe tbody tr th {\n",
       "        vertical-align: top;\n",
       "    }\n",
       "\n",
       "    .dataframe thead th {\n",
       "        text-align: right;\n",
       "    }\n",
       "</style>\n",
       "<table border=\"1\" class=\"dataframe\">\n",
       "  <thead>\n",
       "    <tr style=\"text-align: right;\">\n",
       "      <th></th>\n",
       "      <th>P(Y=y|X=2)</th>\n",
       "    </tr>\n",
       "    <tr>\n",
       "      <th>y</th>\n",
       "      <th></th>\n",
       "    </tr>\n",
       "  </thead>\n",
       "  <tbody>\n",
       "    <tr>\n",
       "      <th>0</th>\n",
       "      <td>0.40</td>\n",
       "    </tr>\n",
       "    <tr>\n",
       "      <th>5</th>\n",
       "      <td>0.12</td>\n",
       "    </tr>\n",
       "    <tr>\n",
       "      <th>10</th>\n",
       "      <td>0.18</td>\n",
       "    </tr>\n",
       "    <tr>\n",
       "      <th>15</th>\n",
       "      <td>0.30</td>\n",
       "    </tr>\n",
       "  </tbody>\n",
       "</table>\n",
       "</div>"
      ],
      "text/plain": [
       "    P(Y=y|X=2)\n",
       "y             \n",
       "0         0.40\n",
       "5         0.12\n",
       "10        0.18\n",
       "15        0.30"
      ]
     },
     "execution_count": 13,
     "metadata": {},
     "output_type": "execute_result"
    }
   ],
   "source": [
    "# Rozkład warunkowy Y\n",
    "d = r1p.loc[:, 2]\n",
    "PX2Y = d / d.sum()\n",
    "\n",
    "r1wy = pd.DataFrame(data=PX2Y.values, index=PX2Y.index, columns=[\"P(Y=y|X=2)\"])\n",
    "r1wy.index.name = \"y\"\n",
    "r1wy"
   ]
  },
  {
   "cell_type": "code",
   "execution_count": 14,
   "id": "e2c28c8d-f0ac-4b5d-aae8-bd5fb89e06d3",
   "metadata": {
    "deletable": false,
    "editable": false,
    "nbgrader": {
     "cell_type": "code",
     "checksum": "553346b85266c4d5a2d3411b87b75e22",
     "grade": true,
     "grade_id": "cell-c0434f21c515cbf3",
     "locked": true,
     "points": 2,
     "schema_version": 3,
     "solution": false,
     "task": false
    },
    "tags": []
   },
   "outputs": [],
   "source": [
    "# Komórka testowa\n",
    "assert type(r1wy) == pd.DataFrame\n",
    "assert r1wy.shape == (4, 1)\n",
    "assert list(r1wy.columns) == [\"P(Y=y|X=2)\"]\n",
    "assert r1wy.index.name == 'y'\n",
    "assert np.isclose(np.sum(r1wy.index.values), 30)\n",
    "assert np.isclose(np.sum(r1wy[\"P(Y=y|X=2)\"]), 1)"
   ]
  },
  {
   "cell_type": "markdown",
   "id": "7a995f6d-de4f-4e41-9af2-6a24ff229cd4",
   "metadata": {
    "deletable": false,
    "editable": false,
    "nbgrader": {
     "cell_type": "markdown",
     "checksum": "0b7d5a0f364f7aa5ab54882f92c95947",
     "grade": false,
     "grade_id": "cell-ebaac36868a8bdb8",
     "locked": true,
     "schema_version": 3,
     "solution": false,
     "task": false
    },
    "tags": []
   },
   "source": [
    "#### c) Podstawowe parametry rozkładu\n",
    "\n",
    "Oblicz i zapisz do zmiennych następujące parametry rozkładu zmiennej losowej dwuwymiarowej X, Y - wartość średnia (`r1_mean`), wariancja(`r1_var`), odchylenie standardowe (`r1_std`), kowariancję (`r1_cov`) oraz współczynnik korelacji (`r1_r`)."
   ]
  },
  {
   "cell_type": "code",
   "execution_count": 15,
   "id": "af0f07e5-7b11-4640-bab5-72f86157a16e",
   "metadata": {
    "deletable": false,
    "nbgrader": {
     "cell_type": "code",
     "checksum": "aa3a4d39e649eb68753cf7243f221480",
     "grade": false,
     "grade_id": "cell-6549962e1f1f7081",
     "locked": false,
     "schema_version": 3,
     "solution": true,
     "task": false
    },
    "tags": []
   },
   "outputs": [
    {
     "data": {
      "text/plain": [
       "18.505"
      ]
     },
     "execution_count": 15,
     "metadata": {},
     "output_type": "execute_result"
    }
   ],
   "source": [
    "# Wartość oczekiwana\n",
    "r1_mean = np.sum(np.sum(r1p * np.atleast_2d(r1p.index).T * r1p.columns))\n",
    "r1_mean\n"
   ]
  },
  {
   "cell_type": "code",
   "execution_count": 16,
   "id": "567b2828-902a-46a0-aa67-e3f8d22ba542",
   "metadata": {
    "deletable": false,
    "nbgrader": {
     "cell_type": "code",
     "checksum": "490189d35c1b8060b93c8173bdb50aab",
     "grade": false,
     "grade_id": "cell-0edb5536805a6a81",
     "locked": false,
     "schema_version": 3,
     "solution": true,
     "task": false
    },
    "tags": []
   },
   "outputs": [
    {
     "data": {
      "text/plain": [
       "38.96800412"
      ]
     },
     "execution_count": 16,
     "metadata": {},
     "output_type": "execute_result"
    }
   ],
   "source": [
    "# Wariancja\n",
    "mean_x = np.sum(r1bx.values.T * r1bx.index.values)\n",
    "mean_x\n",
    "\n",
    "mean_y = np.sum(r1by.values.T * r1by.index.values)\n",
    "mean_y\n",
    "\n",
    "row = (r1p.columns - mean_x)**2\n",
    "col = np.atleast_2d((r1p.index - mean_y)**2).T\n",
    "\n",
    "r1_var = np.sum((r1p * col * row).values)\n",
    "r1_var\n"
   ]
  },
  {
   "cell_type": "code",
   "execution_count": 17,
   "id": "d18d30a3-8b53-4610-a00a-6920ad43f94a",
   "metadata": {
    "deletable": false,
    "nbgrader": {
     "cell_type": "code",
     "checksum": "a7835a0c55fe3ce45376d10b6f3f5915",
     "grade": false,
     "grade_id": "cell-5159094f21b704e7",
     "locked": false,
     "schema_version": 3,
     "solution": true,
     "task": false
    },
    "tags": []
   },
   "outputs": [
    {
     "data": {
      "text/plain": [
       "6.242435752172384"
      ]
     },
     "execution_count": 17,
     "metadata": {},
     "output_type": "execute_result"
    }
   ],
   "source": [
    "# Odchylenie standardowe\n",
    "r1_std = np.sqrt(r1_var)\n",
    "r1_std"
   ]
  },
  {
   "cell_type": "code",
   "execution_count": 18,
   "id": "1a446e11-6d33-4a07-b331-957650b2abb0",
   "metadata": {
    "deletable": false,
    "nbgrader": {
     "cell_type": "code",
     "checksum": "bb398464cb206ec22b210a37c5307c91",
     "grade": false,
     "grade_id": "cell-43093815f03a1550",
     "locked": false,
     "schema_version": 3,
     "solution": true,
     "task": false
    },
    "tags": []
   },
   "outputs": [
    {
     "data": {
      "text/plain": [
       "0.07360000000000022"
      ]
     },
     "execution_count": 18,
     "metadata": {},
     "output_type": "execute_result"
    }
   ],
   "source": [
    "# Kowariancja\n",
    "rowK = (r1p.columns - mean_x)\n",
    "colK = np.atleast_2d((r1p.index - mean_y)).T\n",
    "\n",
    "r1_cov = np.sum((r1p * colK * rowK).values)\n",
    "r1_cov\n"
   ]
  },
  {
   "cell_type": "code",
   "execution_count": 19,
   "id": "ec53f277-8d93-428d-93df-c8b1a28fe2d6",
   "metadata": {
    "deletable": false,
    "nbgrader": {
     "cell_type": "code",
     "checksum": "c3cb54ee435175c84d1b9ff2e71737b6",
     "grade": false,
     "grade_id": "cell-b87e1ff371fb5862",
     "locked": false,
     "schema_version": 3,
     "solution": true,
     "task": false
    },
    "tags": []
   },
   "outputs": [
    {
     "data": {
      "text/plain": [
       "0.011848900761810917"
      ]
     },
     "execution_count": 19,
     "metadata": {},
     "output_type": "execute_result"
    }
   ],
   "source": [
    "# Współczynnik korelacji\n",
    "std_x =  np.sqrt(np.sum((r1bx.index.values - mean_x)**2 * r1bx.values.T))\n",
    "std_x\n",
    "\n",
    "std_y = np.sqrt(np.sum((r1by.index.values - mean_y)**2 * r1by.values.T))\n",
    "std_y\n",
    "\n",
    "r1_r = r1_cov / (std_x * std_y)\n",
    "r1_r"
   ]
  },
  {
   "cell_type": "code",
   "execution_count": 20,
   "id": "78433b69-0fb8-4d37-84a2-712580008409",
   "metadata": {
    "deletable": false,
    "editable": false,
    "nbgrader": {
     "cell_type": "code",
     "checksum": "ea9f915d13eebab5d6c648744f8e3b00",
     "grade": true,
     "grade_id": "cell-bf0094e8618c1359",
     "locked": true,
     "points": 9,
     "schema_version": 3,
     "solution": false,
     "task": false
    },
    "tags": []
   },
   "outputs": [],
   "source": [
    "# Komórka testowa\n",
    "assert np.isclose(r1_mean, 18.505)\n",
    "assert np.isclose(r1_var, 38.96800412)\n",
    "assert np.isclose(r1_std, 6.242435752172384)\n",
    "assert np.isclose(r1_cov, 0.07360000000000022)\n",
    "assert np.isclose(r1_r, 0.011848900761810917)"
   ]
  },
  {
   "cell_type": "markdown",
   "id": "53fdbfef-06f4-4bb3-9c7f-41d9544a4a47",
   "metadata": {
    "deletable": false,
    "editable": false,
    "nbgrader": {
     "cell_type": "markdown",
     "checksum": "66945b9d6aa3167a21454a64bccce6e9",
     "grade": false,
     "grade_id": "cell-042bfd6df2bff75e",
     "locked": true,
     "schema_version": 3,
     "solution": false,
     "task": false
    },
    "tags": []
   },
   "source": [
    "### Zadanie 2: Obliczanie i wizualizacja prawdopodobieństw [6 pkt]\n",
    "\n",
    "Oblicz i przedstaw na wykresach następujące prawdopodobieństwa:\n",
    "- P(X>2, 0<Y<=10)\n",
    "- P(X<=2|X>3, Y>=5)\n",
    "\n",
    "Wyniki zapisz kolejno do zmiennych `p1` i `p2`oraz przedstaw na wykresach korzystając z funkcji `vizualize_2d_discrete_distribution()`.\n",
    "\n",
    "#### a) P(X>2, 0<Y<=10)"
   ]
  },
  {
   "cell_type": "code",
   "execution_count": 21,
   "id": "82351907-aeb6-4a03-a31d-b9dfb8509d74",
   "metadata": {
    "deletable": false,
    "nbgrader": {
     "cell_type": "code",
     "checksum": "d8f4143814f3707061b89a2033d68d0c",
     "grade": false,
     "grade_id": "cell-902a8df721d4260e",
     "locked": false,
     "schema_version": 3,
     "solution": true,
     "task": false
    },
    "tags": []
   },
   "outputs": [
    {
     "data": {
      "image/png": "[encoded data removed]",
      "text/plain": [
       "<Figure size 1008x432 with 4 Axes>"
      ]
     },
     "metadata": {},
     "output_type": "display_data"
    }
   ],
   "source": [
    "maskA = (r1p.columns > 2) & np.atleast_2d(( (r1p.index > 0) & (r1p.index <= 10) )).T\n",
    "\n",
    "PMA = r1p.values[maskA]\n",
    "\n",
    "p1 = PMA.sum()\n",
    "\n",
    "vizualize_2d_discrete_distribution(r1p, r1f, maskA)"
   ]
  },
  {
   "cell_type": "code",
   "execution_count": 22,
   "id": "7015d9eb-04c9-49ef-92da-7def1986b220",
   "metadata": {
    "deletable": false,
    "editable": false,
    "nbgrader": {
     "cell_type": "code",
     "checksum": "4b5223f13ae0b6570189a9969340ef4f",
     "grade": true,
     "grade_id": "cell-be46ed7911a5be86",
     "locked": true,
     "points": 3,
     "schema_version": 3,
     "solution": false,
     "task": false
    },
    "tags": []
   },
   "outputs": [],
   "source": [
    "# Komórka testowa\n",
    "assert np.isclose(p1, 0.17)"
   ]
  },
  {
   "cell_type": "markdown",
   "id": "faf1d02c-6dca-4c73-b96d-c503d73b53f3",
   "metadata": {
    "deletable": false,
    "editable": false,
    "nbgrader": {
     "cell_type": "markdown",
     "checksum": "d53e388f5387aea44b830b02155a7e9a",
     "grade": false,
     "grade_id": "cell-59809c34fd65d682",
     "locked": true,
     "schema_version": 3,
     "solution": false,
     "task": false
    },
    "tags": []
   },
   "source": [
    "#### b) P(X<=2|X>3, Y>=5)"
   ]
  },
  {
   "cell_type": "code",
   "execution_count": 23,
   "id": "816d4f36-9b5e-4757-b8c4-ad0c015eebe2",
   "metadata": {
    "deletable": false,
    "nbgrader": {
     "cell_type": "code",
     "checksum": "1e41a9fd74585b1215bb7cca4445bee9",
     "grade": false,
     "grade_id": "cell-1478dbd04b61d3fa",
     "locked": false,
     "schema_version": 3,
     "solution": true,
     "task": false
    },
    "tags": []
   },
   "outputs": [
    {
     "data": {
      "image/png": "[encoded data removed]",
      "text/plain": [
       "<Figure size 1008x432 with 4 Axes>"
      ]
     },
     "metadata": {},
     "output_type": "display_data"
    }
   ],
   "source": [
    "maskB = np.atleast_2d(( r1p.index >= 5 )).T & ( ( r1p.columns <=2 ) | ( r1p.columns > 3 ) )\n",
    "\n",
    "PMB = r1p.values[maskB]\n",
    "\n",
    "p2 = PMB.sum()\n",
    "\n",
    "vizualize_2d_discrete_distribution(r1p, r1f, maskB)"
   ]
  },
  {
   "cell_type": "code",
   "execution_count": 24,
   "id": "ed08054d-9802-41ce-a72d-5017e45dcca6",
   "metadata": {
    "deletable": false,
    "editable": false,
    "nbgrader": {
     "cell_type": "code",
     "checksum": "5a3b08e064f029a12bc28bd1ca65e0b9",
     "grade": true,
     "grade_id": "cell-572d8bc3d9228e82",
     "locked": true,
     "points": 3,
     "schema_version": 3,
     "solution": false,
     "task": false
    },
    "tags": []
   },
   "outputs": [],
   "source": [
    "# Komórka testowa\n",
    "assert np.isclose(p2, 0.362)"
   ]
  },
  {
   "cell_type": "markdown",
   "id": "43923bd8-f632-499f-8240-dde338243ed9",
   "metadata": {
    "deletable": false,
    "editable": false,
    "nbgrader": {
     "cell_type": "markdown",
     "checksum": "f9daaac18c70b99c5f6a1f73075c8674",
     "grade": false,
     "grade_id": "cell-0b840da44b9afb0a",
     "locked": true,
     "schema_version": 3,
     "solution": false,
     "task": false
    },
    "tags": []
   },
   "source": [
    "### Zadanie 4: Niezależność zmiennych losowych [2 pkt]\n",
    "\n",
    "Sprawdź, czy zmienne losowe X i Y są zmiennymi niezależnymi i zapisz wynik testu (True/False) do zmiennej `test`."
   ]
  },
  {
   "cell_type": "code",
   "execution_count": 25,
   "id": "84948407-f0d5-49e1-a210-5a59fdc3c0c3",
   "metadata": {
    "deletable": false,
    "nbgrader": {
     "cell_type": "code",
     "checksum": "2d067982d62cf690f9f9ec61c6d53ff0",
     "grade": false,
     "grade_id": "cell-bb7d573597e9f308",
     "locked": false,
     "schema_version": 3,
     "solution": true,
     "task": false
    },
    "tags": []
   },
   "outputs": [
    {
     "data": {
      "text/plain": [
       "False"
      ]
     },
     "execution_count": 25,
     "metadata": {},
     "output_type": "execute_result"
    }
   ],
   "source": [
    "test = (r1p.values == r1bx.values * r1by.values.T).all()\n",
    "test"
   ]
  },
  {
   "cell_type": "code",
   "execution_count": 26,
   "id": "54a8522b-5887-4c7d-b458-8bcaf257e9a3",
   "metadata": {
    "deletable": false,
    "editable": false,
    "nbgrader": {
     "cell_type": "code",
     "checksum": "9c58926c63fd020d33e01a9b03d037ba",
     "grade": true,
     "grade_id": "cell-0b3ec359911df3b8",
     "locked": true,
     "points": 2,
     "schema_version": 3,
     "solution": false,
     "task": false
    },
    "tags": []
   },
   "outputs": [],
   "source": [
    "# Komórka testowa\n",
    "assert test==False"
   ]
  },
  {
   "cell_type": "code",
   "execution_count": null,
   "id": "232bc471",
   "metadata": {},
   "outputs": [],
   "source": []
  }
 ],
 "metadata": {
  "kernelspec": {
   "display_name": "Python 3 (ipykernel)",
   "language": "python",
   "name": "python3"
  },
  "language_info": {
   "codemirror_mode": {
    "name": "ipython",
    "version": 3
   },
   "file_extension": ".py",
   "mimetype": "text/x-python",
   "name": "python",
   "nbconvert_exporter": "python",
   "pygments_lexer": "ipython3",
   "version": "3.9.12"
  }
 },
 "nbformat": 4,
 "nbformat_minor": 5
}

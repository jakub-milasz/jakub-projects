{
 "cells": [
  {
   "cell_type": "markdown",
   "id": "b3da0c9c-3ffc-44f3-bd0e-bf854f38d3d9",
   "metadata": {},
   "source": [
    "# Premier League season 2018/2019 analysis"
   ]
  },
  {
   "cell_type": "markdown",
   "id": "993427fd-0000-425f-9129-1c242b4c6a10",
   "metadata": {},
   "source": [
    "### Importing necessary libraries "
   ]
  },
  {
   "cell_type": "code",
   "execution_count": 1,
   "id": "cc9ffa45-f175-4c2f-a0e7-f6b609d0a93d",
   "metadata": {
    "tags": []
   },
   "outputs": [],
   "source": [
    "import pandas as pd\n",
    "import numpy as np\n",
    "import matplotlib.pyplot as plt"
   ]
  },
  {
   "cell_type": "markdown",
   "id": "78be5518-1d53-4902-8038-8ea0538a6bb9",
   "metadata": {},
   "source": [
    "### Importing the dataset"
   ]
  },
  {
   "cell_type": "code",
   "execution_count": 2,
   "id": "97696197-7491-4ce5-aad0-de3ce3f618a1",
   "metadata": {
    "tags": []
   },
   "outputs": [
    {
     "data": {
      "text/html": [
       "<div>\n",
       "<style scoped>\n",
       "    .dataframe tbody tr th:only-of-type {\n",
       "        vertical-align: middle;\n",
       "    }\n",
       "\n",
       "    .dataframe tbody tr th {\n",
       "        vertical-align: top;\n",
       "    }\n",
       "\n",
       "    .dataframe thead th {\n",
       "        text-align: right;\n",
       "    }\n",
       "</style>\n",
       "<table border=\"1\" class=\"dataframe\">\n",
       "  <thead>\n",
       "    <tr style=\"text-align: right;\">\n",
       "      <th></th>\n",
       "      <th>Div</th>\n",
       "      <th>Date</th>\n",
       "      <th>HomeTeam</th>\n",
       "      <th>AwayTeam</th>\n",
       "      <th>FTHG</th>\n",
       "      <th>FTAG</th>\n",
       "      <th>FTR</th>\n",
       "      <th>HTHG</th>\n",
       "      <th>HTAG</th>\n",
       "      <th>HTR</th>\n",
       "      <th>...</th>\n",
       "      <th>HST</th>\n",
       "      <th>AST</th>\n",
       "      <th>HF</th>\n",
       "      <th>AF</th>\n",
       "      <th>HC</th>\n",
       "      <th>AC</th>\n",
       "      <th>HY</th>\n",
       "      <th>AY</th>\n",
       "      <th>HR</th>\n",
       "      <th>AR</th>\n",
       "    </tr>\n",
       "  </thead>\n",
       "  <tbody>\n",
       "    <tr>\n",
       "      <th>0</th>\n",
       "      <td>E0</td>\n",
       "      <td>10/8/18</td>\n",
       "      <td>Man United</td>\n",
       "      <td>Leicester</td>\n",
       "      <td>2</td>\n",
       "      <td>1</td>\n",
       "      <td>H</td>\n",
       "      <td>1</td>\n",
       "      <td>0</td>\n",
       "      <td>H</td>\n",
       "      <td>...</td>\n",
       "      <td>6</td>\n",
       "      <td>4</td>\n",
       "      <td>11</td>\n",
       "      <td>8</td>\n",
       "      <td>2</td>\n",
       "      <td>5</td>\n",
       "      <td>2</td>\n",
       "      <td>1</td>\n",
       "      <td>0</td>\n",
       "      <td>0</td>\n",
       "    </tr>\n",
       "    <tr>\n",
       "      <th>1</th>\n",
       "      <td>E0</td>\n",
       "      <td>11/8/18</td>\n",
       "      <td>Bournemouth</td>\n",
       "      <td>Cardiff</td>\n",
       "      <td>2</td>\n",
       "      <td>0</td>\n",
       "      <td>H</td>\n",
       "      <td>1</td>\n",
       "      <td>0</td>\n",
       "      <td>H</td>\n",
       "      <td>...</td>\n",
       "      <td>4</td>\n",
       "      <td>1</td>\n",
       "      <td>11</td>\n",
       "      <td>9</td>\n",
       "      <td>7</td>\n",
       "      <td>4</td>\n",
       "      <td>1</td>\n",
       "      <td>1</td>\n",
       "      <td>0</td>\n",
       "      <td>0</td>\n",
       "    </tr>\n",
       "    <tr>\n",
       "      <th>2</th>\n",
       "      <td>E0</td>\n",
       "      <td>11/8/18</td>\n",
       "      <td>Fulham</td>\n",
       "      <td>Crystal Palace</td>\n",
       "      <td>0</td>\n",
       "      <td>2</td>\n",
       "      <td>A</td>\n",
       "      <td>0</td>\n",
       "      <td>1</td>\n",
       "      <td>A</td>\n",
       "      <td>...</td>\n",
       "      <td>6</td>\n",
       "      <td>9</td>\n",
       "      <td>9</td>\n",
       "      <td>11</td>\n",
       "      <td>5</td>\n",
       "      <td>5</td>\n",
       "      <td>1</td>\n",
       "      <td>2</td>\n",
       "      <td>0</td>\n",
       "      <td>0</td>\n",
       "    </tr>\n",
       "    <tr>\n",
       "      <th>3</th>\n",
       "      <td>E0</td>\n",
       "      <td>11/8/18</td>\n",
       "      <td>Huddersfield</td>\n",
       "      <td>Chelsea</td>\n",
       "      <td>0</td>\n",
       "      <td>3</td>\n",
       "      <td>A</td>\n",
       "      <td>0</td>\n",
       "      <td>2</td>\n",
       "      <td>A</td>\n",
       "      <td>...</td>\n",
       "      <td>1</td>\n",
       "      <td>4</td>\n",
       "      <td>9</td>\n",
       "      <td>8</td>\n",
       "      <td>2</td>\n",
       "      <td>5</td>\n",
       "      <td>2</td>\n",
       "      <td>1</td>\n",
       "      <td>0</td>\n",
       "      <td>0</td>\n",
       "    </tr>\n",
       "    <tr>\n",
       "      <th>4</th>\n",
       "      <td>E0</td>\n",
       "      <td>11/8/18</td>\n",
       "      <td>Newcastle</td>\n",
       "      <td>Tottenham</td>\n",
       "      <td>1</td>\n",
       "      <td>2</td>\n",
       "      <td>A</td>\n",
       "      <td>1</td>\n",
       "      <td>2</td>\n",
       "      <td>A</td>\n",
       "      <td>...</td>\n",
       "      <td>2</td>\n",
       "      <td>5</td>\n",
       "      <td>11</td>\n",
       "      <td>12</td>\n",
       "      <td>3</td>\n",
       "      <td>5</td>\n",
       "      <td>2</td>\n",
       "      <td>2</td>\n",
       "      <td>0</td>\n",
       "      <td>0</td>\n",
       "    </tr>\n",
       "  </tbody>\n",
       "</table>\n",
       "<p>5 rows × 23 columns</p>\n",
       "</div>"
      ],
      "text/plain": [
       "  Div     Date      HomeTeam        AwayTeam  FTHG  FTAG FTR  HTHG  HTAG HTR  \\\n",
       "0  E0  10/8/18    Man United       Leicester     2     1   H     1     0   H   \n",
       "1  E0  11/8/18   Bournemouth         Cardiff     2     0   H     1     0   H   \n",
       "2  E0  11/8/18        Fulham  Crystal Palace     0     2   A     0     1   A   \n",
       "3  E0  11/8/18  Huddersfield         Chelsea     0     3   A     0     2   A   \n",
       "4  E0  11/8/18     Newcastle       Tottenham     1     2   A     1     2   A   \n",
       "\n",
       "   ... HST  AST  HF  AF  HC  AC  HY  AY  HR  AR  \n",
       "0  ...   6    4  11   8   2   5   2   1   0   0  \n",
       "1  ...   4    1  11   9   7   4   1   1   0   0  \n",
       "2  ...   6    9   9  11   5   5   1   2   0   0  \n",
       "3  ...   1    4   9   8   2   5   2   1   0   0  \n",
       "4  ...   2    5  11  12   3   5   2   2   0   0  \n",
       "\n",
       "[5 rows x 23 columns]"
      ]
     },
     "execution_count": 2,
     "metadata": {},
     "output_type": "execute_result"
    }
   ],
   "source": [
    "dataset = pd.read_csv('2018-2019.csv')\n",
    "dataset.head()"
   ]
  },
  {
   "cell_type": "markdown",
   "id": "4c540e95-6829-4308-8a5a-1926146e0505",
   "metadata": {},
   "source": [
    "## Road Manchester City to Champions"
   ]
  },
  {
   "cell_type": "markdown",
   "id": "4efdeb89-bb31-41f8-9288-341a2bb6f4ec",
   "metadata": {},
   "source": [
    "### Home and away won matches"
   ]
  },
  {
   "cell_type": "code",
   "execution_count": 25,
   "id": "00fdefa8-5528-4a0f-9af1-807ad87fdb83",
   "metadata": {
    "tags": []
   },
   "outputs": [],
   "source": [
    "home = dataset[dataset['HomeTeam'] == 'Man City']\n",
    "away = dataset[dataset['AwayTeam'] == 'Man City']\n",
    "home_wins = home[home['FTR'] == 'H'].shape[0]\n",
    "away_wins = away[away['FTR'] == 'A'].shape[0]"
   ]
  },
  {
   "cell_type": "code",
   "execution_count": 4,
   "id": "ba6c31be-5f9e-41d2-b3c5-f23cafa2636d",
   "metadata": {
    "tags": []
   },
   "outputs": [
    {
     "name": "stdout",
     "output_type": "stream",
     "text": [
      "Home wins: 18\n",
      "Percentage of won home matches: 94.74 %\n",
      "Away wins: 14\n",
      "Percentage of won away matches: 73.68 %\n",
      "Total wins: 32\n",
      "Percentage of won matches: 84.21 %\n"
     ]
    }
   ],
   "source": [
    "print(f'Home wins: {home_wins}')\n",
    "print(f'Percentage of won home matches: {home_wins/19*100:.2f} %')\n",
    "print(f'Away wins: {away_wins}')\n",
    "print(f'Percentage of won away matches: {away_wins/19*100:.2f} %')\n",
    "print(f'Total wins: {home_wins + away_wins}')\n",
    "print(f'Percentage of won matches: {(home_wins + away_wins)/38*100:.2f} %')"
   ]
  },
  {
   "cell_type": "markdown",
   "id": "f315fc29-e2f1-4d41-b343-24bb36653af3",
   "metadata": {},
   "source": [
    "### Won first halfs"
   ]
  },
  {
   "cell_type": "code",
   "execution_count": 5,
   "id": "656ae20a-bbc3-45f4-b3d1-5033eeeb94f8",
   "metadata": {
    "tags": []
   },
   "outputs": [],
   "source": [
    "home_ht_wins = home[home['HTR'] == 'H'].shape[0]\n",
    "away_ht_wins = away[away['HTR'] == 'A'].shape[0]\n",
    "home_ht_wins_but_not_won = home[(home['HTR'] == 'H') & (home['FTR'] != 'H')].shape[0]\n",
    "away_ht_wins_but_not_won = away[(away['HTR'] == 'A') & (away['FTR'] != 'A')].shape[0]"
   ]
  },
  {
   "cell_type": "code",
   "execution_count": 16,
   "id": "a31f4d3f-b594-4f33-bcf6-39962af04e34",
   "metadata": {
    "tags": []
   },
   "outputs": [
    {
     "name": "stdout",
     "output_type": "stream",
     "text": [
      "Home half time wins: 13\n",
      "Home half time wins, but not won match: 0\n",
      "Away half time wins: 12\n",
      "Away half time wins, but not won match: 1\n",
      "Total half time wins: 25\n",
      "Total half time wins, but not won match: 1\n",
      "Man City lost only 1 match when they leaded after 1st half. It was against Newcastle away.\n"
     ]
    }
   ],
   "source": [
    "print(f'Home half time wins: {home_ht_wins}')\n",
    "print(f'Home half time wins, but not won match: {home_ht_wins_but_not_won}')\n",
    "print(f'Away half time wins: {away_ht_wins}')\n",
    "print(f'Away half time wins, but not won match: {away_ht_wins_but_not_won}')\n",
    "print(f'Total half time wins: {home_ht_wins + away_ht_wins}')\n",
    "print(f'Total half time wins, but not won match: {home_ht_wins_but_not_won + away_ht_wins_but_not_won}')\n",
    "print(\"Man City lost only 1 match when they leaded after 1st half. It was against Newcastle away.\")"
   ]
  },
  {
   "cell_type": "markdown",
   "id": "8befbab6-82df-4140-864e-e1f545e1f95d",
   "metadata": {},
   "source": [
    "### Goals scored in first and second half"
   ]
  },
  {
   "cell_type": "code",
   "execution_count": 7,
   "id": "d4506c0a-db11-4df1-8ee8-d7b89d8432f8",
   "metadata": {
    "tags": []
   },
   "outputs": [],
   "source": [
    "home_fh_goals = sum(home['HTHG'])\n",
    "away_fh_goals = sum(away['HTAG'])\n",
    "home_sh_goals = sum(home['FTHG']) - home_fh_goals\n",
    "away_sh_goals = sum(away['FTAG']) - away_fh_goals"
   ]
  },
  {
   "cell_type": "code",
   "execution_count": 8,
   "id": "edcb99cc-9fb1-4c87-8bb5-eb951aa227ec",
   "metadata": {
    "tags": []
   },
   "outputs": [
    {
     "name": "stdout",
     "output_type": "stream",
     "text": [
      "Home first half goals: 28\n",
      "Home second half goals: 29\n",
      "Away first half goals: 21\n",
      "Away second half goals: 17\n",
      "Total first half goals: 49\n",
      "Total second half goals: 46\n"
     ]
    }
   ],
   "source": [
    "print(f'Home first half goals: {home_fh_goals}')\n",
    "print(f'Home second half goals: {home_sh_goals}')\n",
    "print(f'Away first half goals: {away_fh_goals}')\n",
    "print(f'Away second half goals: {away_sh_goals}')\n",
    "print(f'Total first half goals: {home_fh_goals + away_fh_goals}')\n",
    "print(f'Total second half goals: {home_sh_goals + away_sh_goals}')"
   ]
  },
  {
   "cell_type": "markdown",
   "id": "5aee4fe7-1ed6-4c51-8d07-1a13aee599f0",
   "metadata": {},
   "source": [
    "### Shots, shots on target and goals"
   ]
  },
  {
   "cell_type": "code",
   "execution_count": 9,
   "id": "4d54938a-62ed-4426-80d3-9582235b21bc",
   "metadata": {
    "tags": []
   },
   "outputs": [],
   "source": [
    "home_shots = sum(home['HS'])\n",
    "home_shots_target = sum(home['HST'])\n",
    "home_goals = home_fh_goals + home_sh_goals\n",
    "away_shots = sum(away['AS'])\n",
    "away_shots_target = sum(away['AST'])\n",
    "away_goals = away_fh_goals + away_sh_goals"
   ]
  },
  {
   "cell_type": "code",
   "execution_count": 10,
   "id": "6b0fb829-d9df-41c7-a6db-151a239cd068",
   "metadata": {
    "tags": []
   },
   "outputs": [
    {
     "name": "stdout",
     "output_type": "stream",
     "text": [
      "Total shots: 683\n",
      "Total shots on target: 260\n",
      "Total goals: 95\n",
      "Percentage of goals from shots on target: 36.54 %\n"
     ]
    }
   ],
   "source": [
    "print(f'Total shots: {home_shots + away_shots}')\n",
    "print(f'Total shots on target: {home_shots_target + away_shots_target}')\n",
    "print(f'Total goals: {home_goals + away_goals}')\n",
    "print(f'Percentage of goals from shots on target: {(home_goals + away_goals)/(home_shots_target + away_shots_target)*100:.2f} %')"
   ]
  },
  {
   "cell_type": "markdown",
   "id": "8ef6a73e-fac9-4745-b296-5dc1aac57b32",
   "metadata": {},
   "source": [
    "### Goals conceded"
   ]
  },
  {
   "cell_type": "code",
   "execution_count": 21,
   "id": "4e6e9737-b564-4914-99c7-1e649b34b203",
   "metadata": {
    "tags": []
   },
   "outputs": [],
   "source": [
    "home_conceded = sum(home['FTAG'])\n",
    "away_conceded = sum(away['FTHG'])\n",
    "total_conceded = home_conceded + away_conceded"
   ]
  },
  {
   "cell_type": "code",
   "execution_count": 23,
   "id": "ee91d3ab-8159-429f-8cd7-fa504504f132",
   "metadata": {
    "tags": []
   },
   "outputs": [
    {
     "name": "stdout",
     "output_type": "stream",
     "text": [
      "Home golas conceded: 12\n",
      "Away goals conceded: 11\n",
      "Total goals conceded: 23\n",
      "Goals conceded per match: 0.61\n"
     ]
    }
   ],
   "source": [
    "print(f'Home golas conceded: {home_conceded}')\n",
    "print(f'Away goals conceded: {away_conceded}')\n",
    "print(f'Total goals conceded: {total_conceded}')\n",
    "print(f'Goals conceded per match: {total_conceded/38:.2f}')"
   ]
  },
  {
   "cell_type": "markdown",
   "id": "b3d0ac70-8eaa-4dcd-8f0b-04f76d537832",
   "metadata": {},
   "source": [
    "### Conclusions"
   ]
  },
  {
   "cell_type": "markdown",
   "id": "7037cda8-cf40-4043-bc56-8657f83885d0",
   "metadata": {},
   "source": [
    "#### 1. Manchester City did not win only one match on their home stadium. It was against Crystal Palace.\n",
    "#### 2. They had a quite high percentage of wins.\n",
    "#### 3. They could maintain the beneficial result from first half. They lost only 1 match when they leaded after 1st half. It was against Newcastle away.\n",
    "#### 4. They played similar halfs of the match, because they scored 49 goals in 1st half and 46 goals in 2nd half.\n",
    "#### 5. Approximately one third of their shots on target were goals.\n",
    "#### 6. They conceded only 23 goals in season, so their defense performed very well.\n",
    "\n",
    "#### To conclude, Manchester City had a very successful season. Their performances were at a high and equal level in offense and defense."
   ]
  },
  {
   "cell_type": "markdown",
   "id": "c60973dd-0ee2-4fd3-956b-5b31038f29b9",
   "metadata": {},
   "source": [
    "## Overall season stats"
   ]
  },
  {
   "cell_type": "markdown",
   "id": "1468ff26-e77c-4f5f-a1ce-3ce8ca22512b",
   "metadata": {},
   "source": [
    "### Most fouls by teams"
   ]
  },
  {
   "cell_type": "code",
   "execution_count": 11,
   "id": "c485743d-3f29-4f29-b2e9-f3b3126ae6bb",
   "metadata": {
    "tags": []
   },
   "outputs": [],
   "source": [
    "home_fouls = dataset[['HomeTeam', 'HF']].groupby(by = 'HomeTeam').sum()\n",
    "away_fouls = dataset[['AwayTeam', 'HF']].groupby(by = 'AwayTeam').sum()\n",
    "total_fouls = home_fouls + away_fouls\n",
    "total_fouls.columns = ['Fouls']\n",
    "teams = total_fouls.index"
   ]
  },
  {
   "cell_type": "code",
   "execution_count": 12,
   "id": "598758cd-c9b9-4370-a86b-48a77b950054",
   "metadata": {
    "tags": []
   },
   "outputs": [
    {
     "name": "stdout",
     "output_type": "stream",
     "text": [
      "Team with the most number of fouls: Everton - 432\n",
      "Team with the least number of fouls: Man City - 327\n"
     ]
    }
   ],
   "source": [
    "print(f'Team with the most number of fouls: {total_fouls.idxmax().values[0]} - {total_fouls.max().values[0]}')\n",
    "print(f'Team with the least number of fouls: {total_fouls.idxmin().values[0]} - {total_fouls.min().values[0]}')"
   ]
  },
  {
   "cell_type": "code",
   "execution_count": 13,
   "id": "773ef65c-cd97-4b5e-be9d-2223d60d74ae",
   "metadata": {
    "tags": []
   },
   "outputs": [
    {
     "data": {
      "image/png": "[encoded data removed]",
      "text/plain": [
       "<Figure size 640x480 with 1 Axes>"
      ]
     },
     "metadata": {},
     "output_type": "display_data"
    }
   ],
   "source": [
    "plt.bar(teams, total_fouls['Fouls'], color = 'green')\n",
    "plt.xticks(rotation=90)\n",
    "plt.title('Number of fouls per team')\n",
    "plt.xlabel('Teams')\n",
    "plt.ylabel('Number of fouls')\n",
    "plt.show()"
   ]
  },
  {
   "cell_type": "markdown",
   "id": "6b20ea38-d229-4d5c-b4eb-c9179be0636f",
   "metadata": {},
   "source": [
    "### Most yellow cards by teams"
   ]
  },
  {
   "cell_type": "code",
   "execution_count": 70,
   "id": "d39c8c3b-2e48-48fd-a107-9a21a806199a",
   "metadata": {
    "tags": []
   },
   "outputs": [],
   "source": [
    "home_yc = dataset[['HomeTeam', 'HY']].groupby(by = 'HomeTeam').sum()\n",
    "away_yc = dataset[['AwayTeam', 'HY']].groupby(by = 'AwayTeam').sum()\n",
    "total_yc = home_yc + away_yc\n",
    "total_yc.columns = ['Yellow']"
   ]
  },
  {
   "cell_type": "code",
   "execution_count": 76,
   "id": "45871780-0d38-4af7-9e40-bf911f6074eb",
   "metadata": {
    "tags": []
   },
   "outputs": [
    {
     "name": "stdout",
     "output_type": "stream",
     "text": [
      "Team with the most yellow cards: Bournemouth - 78\n",
      "Team with the least yellow cards: Liverpool - 34\n"
     ]
    }
   ],
   "source": [
    "print(f'Team with the most yellow cards: {total_yc.idxmax().values[0]} - {total_yc.max().values[0]}')\n",
    "print(f'Team with the least yellow cards: {total_yc.idxmin().values[0]} - {total_yc.min().values[0]}')"
   ]
  },
  {
   "cell_type": "markdown",
   "id": "2ca958a9-cd1a-4171-9fb3-ae6f4ed5e376",
   "metadata": {},
   "source": [
    "### Most red cards by teams"
   ]
  },
  {
   "cell_type": "code",
   "execution_count": 78,
   "id": "5016d179-ee73-4a68-8fa1-926b37b053ae",
   "metadata": {
    "tags": []
   },
   "outputs": [],
   "source": [
    "home_rc = dataset[['HomeTeam', 'HR']].groupby(by = 'HomeTeam').sum()\n",
    "away_rc = dataset[['AwayTeam', 'HR']].groupby(by = 'AwayTeam').sum()\n",
    "total_rc = home_rc + away_rc\n",
    "total_rc.columns = ['Red']"
   ]
  },
  {
   "cell_type": "code",
   "execution_count": 79,
   "id": "9281759f-ec4d-40f2-ac3b-2469c6940b55",
   "metadata": {
    "tags": []
   },
   "outputs": [
    {
     "name": "stdout",
     "output_type": "stream",
     "text": [
      "Team with the most red cards: Bournemouth - 5\n",
      "Team with the least red cards: Chelsea - 0\n"
     ]
    }
   ],
   "source": [
    "print(f'Team with the most red cards: {total_rc.idxmax().values[0]} - {total_rc.max().values[0]}')\n",
    "print(f'Team with the least red cards: {total_rc.idxmin().values[0]} - {total_rc.min().values[0]}')"
   ]
  },
  {
   "cell_type": "markdown",
   "id": "e94b3d19-9a7e-4872-bc46-becc42947ec8",
   "metadata": {},
   "source": [
    "### Plot results"
   ]
  },
  {
   "cell_type": "code",
   "execution_count": 80,
   "id": "61acb15f-89c2-499a-a3ce-c7fd44562055",
   "metadata": {
    "tags": []
   },
   "outputs": [
    {
     "data": {
      "image/png": "[encoded data removed]",
      "text/plain": [
       "<Figure size 640x480 with 1 Axes>"
      ]
     },
     "metadata": {},
     "output_type": "display_data"
    }
   ],
   "source": [
    "plt.bar(teams, total_yc['Yellow'], color = 'yellow')\n",
    "plt.bar(teams, total_rc['Red'], color = 'red')\n",
    "plt.xticks(rotation=90)\n",
    "plt.title('Number of yellow cards per team')\n",
    "plt.xlabel('Teams')\n",
    "plt.ylabel('Number of yellow cards')\n",
    "plt.show()"
   ]
  }
 ],
 "metadata": {
  "kernelspec": {
   "display_name": "Python 3 (ipykernel)",
   "language": "python",
   "name": "python3"
  },
  "language_info": {
   "codemirror_mode": {
    "name": "ipython",
    "version": 3
   },
   "file_extension": ".py",
   "mimetype": "text/x-python",
   "name": "python",
   "nbconvert_exporter": "python",
   "pygments_lexer": "ipython3",
   "version": "3.11.5"
  }
 },
 "nbformat": 4,
 "nbformat_minor": 5
}
